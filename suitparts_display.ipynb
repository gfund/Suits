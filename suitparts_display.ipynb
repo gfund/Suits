{
 "cells": [
  {
   "attachments": {},
   "cell_type": "markdown",
   "metadata": {},
   "source": [
    "# Safe Run\n",
    "Made to get around Discord Cloudflare error that was preventing bots from getting online. The inputs are the bot object and the filename. The filename is input so that any this function can be used in any design. When the error comes up,the function uses kill 1 to stop all processes in repl then starts bot.py with `python bot.py`. Potentially, if the error message was to change this would stop working but it would not be hard to make it work again by changing `expectederrmsg`."
   ]
  },
  {
   "cell_type": "code",
   "execution_count": null,
   "metadata": {},
   "outputs": [],
   "source": [
    "def saferun(bot,bfilename):\n",
    "    import os\n",
    "    expectederrmsg=\"The owner of this website (discord.com) has banned you temporarily from accessing this website\"\n",
    "    # Normal Boot\n",
    "    TOKEN = os.environ.get(\"DISCORD_BOT_SECRET\") \n",
    "    try:\n",
    "        bot.run(TOKEN)\n",
    "        \n",
    "    #Safety Mechanism\n",
    "    except Exception as e:\n",
    "        exceptionmessage = str(e)\n",
    "        if (expectederrmsg\n",
    "                in exceptionmessage):\n",
    "           \n",
    "\n",
    "            print(\"Shuttting down to restart\")\n",
    "            #kill all processes then start bot file again\n",
    "            os.system(f\"kill 1 |python {bfilename}.py\")"
   ]
  },
  {
   "attachments": {},
   "cell_type": "markdown",
   "metadata": {},
   "source": [
    "# Remote Start V1\n",
    "\n",
    "   Still a bit buggy but not bad for a new development. It works by booting a flask webserver as main.py. When someone goes to the website, the `count` variable is incremented. There was no real logic behind this just trial and error but the bot boots when `count` is equal to 2. I suppose I should refine this in the future but it works(somewhat). I don't know what is causing it exactly but multiple instances of the bot are booting which is not a terrible problem but is a quirky bug. I plan to see if I can utilize this little bug to my advantage but experiments to cause it so far have been unsucessful. Anyhow, once `count` is 2, `start.sh` is called which just starts the bot. I could have done `os.system(\"python bot.py\")` as well but it works. `count` is also reset back to 0."
   ]
  },
  {
   "cell_type": "code",
   "execution_count": null,
   "metadata": {},
   "outputs": [],
   "source": [
    "from flask import Flask\n",
    "\n",
    "global count\n",
    "count = 0\n",
    "\n",
    "app = Flask('')\n",
    "app = Flask(__name__)\n",
    "\n",
    "\n",
    "@app.route('/')  # this is the home page route\n",
    "@app.route('/boot', methods=['POST'])\n",
    "def boot():\n",
    "\n",
    "    global count\n",
    "    import subprocess\n",
    "    print(\"recieved call\")\n",
    "    print(count)\n",
    "    count += 1\n",
    "    if (count == 2):\n",
    "        count = 0  #reset count\n",
    "\n",
    "        subprocess.call(['sh', 'start.sh']) #optionally os.system(\"python bot.py\")\n",
    "        return \"booted\"\n",
    "    return \"Swift\"\n",
    "\n",
    "\n",
    "def run():\n",
    "    app.run(host=\"0.0.0.0\", port=8080)\n",
    "\n",
    "\n",
    "run()\n"
   ]
  },
  {
   "attachments": {},
   "cell_type": "markdown",
   "metadata": {},
   "source": [
    "# Suit Power Standby \n",
    " Puts bot on standby if suit user goes offline.  \n",
    " `powermanip` changes the bots status. If 0 is inputted, the bot will go offline and if 1 is inputted it will go online\n",
    " `on_member_update` checks the status of the user and calls powermanip as needed"
   ]
  },
  {
   "cell_type": "code",
   "execution_count": null,
   "metadata": {},
   "outputs": [],
   "source": [
    "global standby #so bot doesnt repeat boots\n",
    "standby=False \n",
    "async def powermanip(switch):\n",
    "    if(switch):\n",
    "      await bot.change_presence(status=discord.Status.online)\n",
    "      \n",
    "    if(not switch):\n",
    "     await bot.change_presence(status=discord.Status.offline)\n",
    "\n",
    "\n",
    "    \n",
    "  \n",
    "@bot.event\n",
    "async def on_member_update(before, after):\n",
    "    global suituser\n",
    "    global standby\n",
    "    if(after.id==suituser and str(before.status)!=\"offline\" and str(after.status)==\"offline\"):\n",
    "     standby=True\n",
    "     await powermanip(0)\n",
    "    elif(after.id==suituser and str(before.status)!=\"online\" and str(after.status)==\"online\" and standby==True):\n",
    "      standby=False\n",
    "      await powermanip(1)"
   ]
  },
  {
   "attachments": {},
   "cell_type": "markdown",
   "metadata": {},
   "source": [
    "# Targeting System V4"
   ]
  },
  {
   "cell_type": "code",
   "execution_count": null,
   "metadata": {},
   "outputs": [],
   "source": [
    "#Target Parse V4\n",
    "#Takes in ctx: command context\n",
    "#user string or int\n",
    "async def targetparse(ctx, user):\n",
    "    user = user.strip()  #eliminate whitespace\n",
    "    target = \"\"  #target holder\n",
    "    #print(target)   #Debug\n",
    "    #check if user is a String\n",
    "    if ((user.replace(\" \", \"\").isalpha())):\n",
    "        #check if target is in guild members\n",
    "        for member in ctx.guild.members:\n",
    "            if ((user == (member.display_name)) or (user == (member.nick))\n",
    "                    or (user == (member.name))):\n",
    "                target = member\n",
    "                return target\n",
    "    #check if its a ping mention\n",
    "    elif (\"@\" in user):\n",
    "\n",
    "        memid = int(user.replace(\"<@\", \" \").replace(\">\", \" \"))\n",
    "        target = await bot.fetch_user(memid)\n",
    "        return target\n",
    "    #check if user is an int\n",
    "    elif (user.isdigit()):\n",
    "        target = await bot.fetch_user(user)\n",
    "        return target\n"
   ]
  },
  {
   "attachments": {},
   "cell_type": "markdown",
   "metadata": {},
   "source": [
    "# Saturn Install\n",
    "  Small but powerful. Speeds up boot time by installing nonessential libraries on the fly. Named after Saturn V rocket because of how the rocket worked in stages.\n"
   ]
  },
  {
   "cell_type": "code",
   "execution_count": null,
   "metadata": {},
   "outputs": [],
   "source": [
    "import subprocess\n",
    "def saturninstall(pack):\n",
    "    subprocess.call(['pip', 'install', pack])"
   ]
  },
  {
   "attachments": {},
   "cell_type": "markdown",
   "metadata": {},
   "source": [
    "# Suit Basic Init\n",
    "\n",
    "Made to initialize bot variables from a json file to allow for faster suit construction and also allow the variables to be kept in their state during last use if repl restarts the bot. \n",
    "\n",
    "Sample Init File\n",
    "```json\n",
    "{\n",
    "  \n",
    "    \"suituser\": 590010502781075459,\n",
    "    \"prefix\": \"*\",\n",
    "    \"weapons\": false,\n",
    "    \"entrygif\":\"\",\n",
    "    \"weplist\" : [{\n",
    "        \"name\":\"repulsor\",\n",
    "        \"type\":\"fire\",\n",
    "        \"gif\":\"https://tenor.com/view/war-machine-gun-up-gif-19585303\"\n",
    "    }],\n",
    "    \"wepnum\":0\n",
    "    \n",
    "  }\n",
    "\n",
    "\n",
    "```"
   ]
  },
  {
   "cell_type": "code",
   "execution_count": null,
   "metadata": {},
   "outputs": [],
   "source": [
    "import json\n",
    "def suitbasicinit():\n",
    "    #Load in suit settings\n",
    "    global settings\n",
    "    global suituser\n",
    "    global weapons\n",
    "    global wepnum\n",
    "    global weplist\n",
    "\n",
    "    suitsettings = open(\"suit.json\")\n",
    "    settings = json.load(suitsettings)\n",
    "    suituser = settings['suituser']\n",
    "    weapons = settings['weapons']\n",
    "    weplist = settings['weplist']\n"
   ]
  }
 ],
 "metadata": {
  "kernelspec": {
   "display_name": "Python 3",
   "language": "python",
   "name": "python3"
  },
  "language_info": {
   "name": "python",
   "version": "3.10.10"
  },
  "orig_nbformat": 4,
  "vscode": {
   "interpreter": {
    "hash": "45318ea6a16edce527fe7c3345959346cc05044a5a3ec9aea97d878af46ca4e5"
   }
  }
 },
 "nbformat": 4,
 "nbformat_minor": 2
}
