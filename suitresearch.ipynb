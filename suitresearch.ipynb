{
 "cells": [
  {
   "attachments": {},
   "cell_type": "markdown",
   "metadata": {},
   "source": [
    "# Safe Run\n",
    "Made to get around Discord Cloudflare error that was preventing bots from getting online. The inputs are the bot object and the filename. The filename is input so that any this function can be used in any design. When the error comes up,the function uses kill 1 to stop all processes in repl then starts bot.py with `python bot.py`. Potentially, if the error message was to change this would stop working but it would not be hard to make it work again by changing `expectederrmsg`."
   ]
  },
  {
   "cell_type": "code",
   "execution_count": null,
   "metadata": {},
   "outputs": [],
   "source": [
    "\n",
    "def saferun(bot,bfilename):\n",
    "    import os\n",
    "    expectederrmsg=\"The owner of this website (discord.com) has banned you temporarily from accessing this website\"\n",
    "    # Normal Boot\n",
    "    TOKEN = os.environ.get(\"DISCORD_BOT_SECRET\") \n",
    "    try:\n",
    "        bot.run(TOKEN)\n",
    "        \n",
    "    #Safety Mechanism\n",
    "    except Exception as e:\n",
    "        exceptionmessage = str(e)\n",
    "        if (expectederrmsg\n",
    "                in exceptionmessage):\n",
    "           \n",
    "\n",
    "            print(\"Shuttting down to restart\")\n",
    "            #kill all processes then start bot file again\n",
    "            os.system(f\"kill 1 |python {bfilename}.py\")"
   ]
  },
  {
   "attachments": {},
   "cell_type": "markdown",
   "metadata": {},
   "source": [
    "# Remote Start V1\n",
    "\n",
    "   Still a bit buggy but not bad for a new development. It works by booting a flask webserver as main.py. When someone goes to the website, the `count` variable is incremented. There was no real logic behind this just trial and error but the bot boots when `count` is equal to 2. I suppose I should refine this in the future but it works(somewhat). I don't know what is causing it exactly but multiple instances of the bot are booting which is not a terrible problem but is a quirky bug. I plan to see if I can utilize this little bug to my advantage but experiments to cause it so far have been unsucessful. Anyhow, once `count` is 2, `start.sh` is called which just starts the bot. I could have done `os.system(\"python bot.py\")` as well but it works. `count` is also reset back to 0."
   ]
  },
  {
   "cell_type": "code",
   "execution_count": null,
   "metadata": {},
   "outputs": [],
   "source": [
    "from flask import Flask\n",
    "\n",
    "global count\n",
    "count = 0\n",
    "\n",
    "app = Flask('')\n",
    "app = Flask(__name__)\n",
    "\n",
    "\n",
    "@app.route('/')  # this is the home page route\n",
    "@app.route('/boot', methods=['POST'])\n",
    "def boot():\n",
    "\n",
    "    global count\n",
    "    import subprocess\n",
    "    print(\"recieved call\")\n",
    "    print(count)\n",
    "    count += 1\n",
    "    if (count == 2):\n",
    "        count = 0  #reset count\n",
    "\n",
    "        subprocess.call(['sh', 'start.sh'])\n",
    "        return \"booted\"\n",
    "    return \"Swift\"\n",
    "\n",
    "\n",
    "def run():\n",
    "    app.run(host=\"0.0.0.0\", port=8080)\n",
    "\n",
    "\n",
    "run()\n"
   ]
  }
 ],
 "metadata": {
  "kernelspec": {
   "display_name": "Python 3",
   "language": "python",
   "name": "python3"
  },
  "language_info": {
   "name": "python",
   "version": "3.10.10"
  },
  "orig_nbformat": 4,
  "vscode": {
   "interpreter": {
    "hash": "45318ea6a16edce527fe7c3345959346cc05044a5a3ec9aea97d878af46ca4e5"
   }
  }
 },
 "nbformat": 4,
 "nbformat_minor": 2
}
